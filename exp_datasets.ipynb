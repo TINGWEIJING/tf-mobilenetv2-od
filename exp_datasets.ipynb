{
 "cells": [
  {
   "cell_type": "code",
   "execution_count": 14,
   "metadata": {},
   "outputs": [],
   "source": [
    "import os"
   ]
  },
  {
   "cell_type": "code",
   "execution_count": 1,
   "metadata": {},
   "outputs": [
    {
     "name": "stdout",
     "output_type": "stream",
     "text": [
      "Cloning into 'widerface-to-tfrecord'...\n",
      "remote: Enumerating objects: 24, done.\u001b[K\n",
      "remote: Total 24 (delta 0), reused 0 (delta 0), pack-reused 24\u001b[K\n",
      "Unpacking objects: 100% (24/24), done.\n"
     ]
    }
   ],
   "source": [
    "# clone the converter scripts\n",
    "!git clone https://github.com/iitzco/widerface-to-tfrecord.git"
   ]
  },
  {
   "cell_type": "code",
   "execution_count": 2,
   "metadata": {},
   "outputs": [
    {
     "name": "stdout",
     "output_type": "stream",
     "text": [
      "Requirement already satisfied: gdown in /usr/local/lib/python3.7/dist-packages (4.4.0)\n",
      "Requirement already satisfied: filelock in /usr/local/lib/python3.7/dist-packages (from gdown) (3.6.0)\n",
      "Requirement already satisfied: six in /usr/local/lib/python3.7/dist-packages (from gdown) (1.15.0)\n",
      "Requirement already satisfied: tqdm in /usr/local/lib/python3.7/dist-packages (from gdown) (4.64.0)\n",
      "Requirement already satisfied: beautifulsoup4 in /usr/local/lib/python3.7/dist-packages (from gdown) (4.6.3)\n",
      "Requirement already satisfied: requests[socks] in /usr/local/lib/python3.7/dist-packages (from gdown) (2.23.0)\n",
      "Requirement already satisfied: urllib3!=1.25.0,!=1.25.1,<1.26,>=1.21.1 in /usr/local/lib/python3.7/dist-packages (from requests[socks]->gdown) (1.24.3)\n",
      "Requirement already satisfied: certifi>=2017.4.17 in /usr/local/lib/python3.7/dist-packages (from requests[socks]->gdown) (2021.10.8)\n",
      "Requirement already satisfied: chardet<4,>=3.0.2 in /usr/local/lib/python3.7/dist-packages (from requests[socks]->gdown) (3.0.4)\n",
      "Requirement already satisfied: idna<3,>=2.5 in /usr/local/lib/python3.7/dist-packages (from requests[socks]->gdown) (2.10)\n",
      "Requirement already satisfied: PySocks!=1.5.7,>=1.5.6 in /usr/local/lib/python3.7/dist-packages (from requests[socks]->gdown) (1.7.1)\n"
     ]
    }
   ],
   "source": [
    "# install drive downloader\n",
    "%pip install gdown"
   ]
  },
  {
   "cell_type": "code",
   "execution_count": 28,
   "metadata": {},
   "outputs": [
    {
     "data": {
      "application/vnd.google.colaboratory.intrinsic+json": {
       "type": "string"
      },
      "text/plain": [
       "'/content/Tensorflow'"
      ]
     },
     "execution_count": 28,
     "metadata": {},
     "output_type": "execute_result"
    }
   ],
   "source": [
    "# check curr dir\n",
    "%pwd"
   ]
  },
  {
   "cell_type": "code",
   "execution_count": 26,
   "metadata": {},
   "outputs": [
    {
     "name": "stdout",
     "output_type": "stream",
     "text": [
      "WORKDIR: /content/Tensorflow\n",
      "RAW_DATA_DIR: /content/drive/MyDrive/Shared 01/MobileNetv2/WIDER_Face_Datasets/raw\n"
     ]
    }
   ],
   "source": [
    "WORKDIR = os.getcwd()\n",
    "# WORKDIR = '/content/Tensorflow'\n",
    "RAW_DATA_DIR = \"/content/drive/MyDrive/Shared 01/MobileNetv2/WIDER_Face_Datasets/raw\"\n",
    "print(f'WORKDIR: {WORKDIR}')\n",
    "print(f'RAW_DATA_DIR: {RAW_DATA_DIR}')"
   ]
  },
  {
   "cell_type": "code",
   "execution_count": 29,
   "metadata": {},
   "outputs": [
    {
     "data": {
      "application/vnd.google.colaboratory.intrinsic+json": {
       "type": "string"
      },
      "text/plain": [
       "'/content/drive/MyDrive/Shared 01/MobileNetv2/WIDER_Face_Datasets/raw'"
      ]
     },
     "execution_count": 29,
     "metadata": {},
     "output_type": "execute_result"
    }
   ],
   "source": [
    "# change to datasets dir\n",
    "os.chdir(RAW_DATA_DIR)\n",
    "%pwd"
   ]
  },
  {
   "cell_type": "code",
   "execution_count": null,
   "metadata": {},
   "outputs": [],
   "source": [
    "# download WIDER Face datasets (train, test, validation)\n",
    "!gdown 15hGDLhsx8bLgLcIRD5DhYt5iBxnjNF1M\n",
    "!gdown 1HIfDbVEWKmsYKJZm4lchTBDLW5N7dY5T\n",
    "!gdown 1GUCogbp16PMGa39thoMMeWxp7Rp5oM8Q"
   ]
  },
  {
   "cell_type": "code",
   "execution_count": 31,
   "metadata": {},
   "outputs": [],
   "source": [
    "# unzip\n",
    "!unzip -q ./WIDER_train.zip -d .\n",
    "!unzip -q ./WIDER_test.zip -d .\n",
    "!unzip -q ./WIDER_val.zip -d ."
   ]
  },
  {
   "cell_type": "code",
   "execution_count": 32,
   "metadata": {},
   "outputs": [
    {
     "name": "stdout",
     "output_type": "stream",
     "text": [
      "--2022-05-15 06:42:20--  http://shuoyang1213.me/WIDERFACE/support/bbx_annotation/wider_face_split.zip\n",
      "Resolving shuoyang1213.me (shuoyang1213.me)... 192.30.252.153, 192.30.252.154\n",
      "Connecting to shuoyang1213.me (shuoyang1213.me)|192.30.252.153|:80... connected.\n",
      "HTTP request sent, awaiting response... 200 OK\n",
      "Length: 3591642 (3.4M) [application/zip]\n",
      "Saving to: ‘wider_face_split.zip’\n",
      "\n",
      "wider_face_split.zi 100%[===================>]   3.42M  1.99MB/s    in 1.7s    \n",
      "\n",
      "2022-05-15 06:42:22 (1.99 MB/s) - ‘wider_face_split.zip’ saved [3591642/3591642]\n",
      "\n"
     ]
    }
   ],
   "source": [
    "# download annotation file\n",
    "!wget http://shuoyang1213.me/WIDERFACE/support/bbx_annotation/wider_face_split.zip"
   ]
  },
  {
   "cell_type": "code",
   "execution_count": 33,
   "metadata": {},
   "outputs": [],
   "source": [
    "# unzip labels\n",
    "!unzip -q ./wider_face_split.zip -d ."
   ]
  },
  {
   "cell_type": "code",
   "execution_count": 34,
   "metadata": {},
   "outputs": [
    {
     "data": {
      "application/vnd.google.colaboratory.intrinsic+json": {
       "type": "string"
      },
      "text/plain": [
       "'/content/Tensorflow'"
      ]
     },
     "execution_count": 34,
     "metadata": {},
     "output_type": "execute_result"
    }
   ],
   "source": [
    "# back to previous work dir\n",
    "os.chdir(WORKDIR)\n",
    "%pwd"
   ]
  },
  {
   "cell_type": "code",
   "execution_count": 36,
   "metadata": {},
   "outputs": [
    {
     "name": "stdout",
     "output_type": "stream",
     "text": [
      "Traceback (most recent call last):\n",
      "  File \"mobilenetv2-od/widerface-to-tfrecord/wider_to_tfrecord.py\", line 1, in <module>\n",
      "    import tensorflow as tf\n",
      "ImportError: No module named tensorflow\n"
     ]
    }
   ],
   "source": [
    "# edit the config.py\n",
    "# convert\n",
    "!python 'mobilenetv2-od/widerface-to-tfrecord/wider_to_tfrecord.py'"
   ]
  },
  {
   "cell_type": "markdown",
   "metadata": {},
   "source": [
    "```\n",
    "Processing /content/drive/MyDrive/Shared 01/MobileNetv2/WIDER_Face_Datasets/raw/WIDER_train/images\n",
    "Correctly created record for 12880 images\n",
    "\n",
    "Processing /content/drive/MyDrive/Shared 01/MobileNetv2/WIDER_Face_Datasets/raw/WIDER_val/images\n",
    "Correctly created record for 3226 images\n",
    "\n",
    "Processing /content/drive/MyDrive/Shared 01/MobileNetv2/WIDER_Face_Datasets/raw/WIDER_test/images\n",
    "Correctly created record for 16097 images\n",
    "```"
   ]
  }
 ],
 "metadata": {
  "interpreter": {
   "hash": "31f2aee4e71d21fbe5cf8b01ff0e069b9275f58929596ceb00d14d90e3e16cd6"
  },
  "kernelspec": {
   "display_name": "Python 3.8.10 64-bit",
   "language": "python",
   "name": "python3"
  },
  "language_info": {
   "codemirror_mode": {
    "name": "ipython",
    "version": 3
   },
   "file_extension": ".py",
   "mimetype": "text/x-python",
   "name": "python",
   "nbconvert_exporter": "python",
   "pygments_lexer": "ipython3",
   "version": "3.7.13"
  },
  "orig_nbformat": 4
 },
 "nbformat": 4,
 "nbformat_minor": 2
}
